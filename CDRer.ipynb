{
 "cells": [
  {
   "cell_type": "markdown",
   "metadata": {},
   "source": [
    "# A Nice Little Script to Assign CDR Loops\n",
    "Hopefully this scipt will take a heavy or light antibody chain as input, and output assigend CDR loops\n",
    "A lot of other groups seem to do something similar, but this might be a more simplistic way of doing it."
   ]
  },
  {
   "cell_type": "code",
   "execution_count": 133,
   "metadata": {},
   "outputs": [],
   "source": [
    "import numpy as np\n",
    "import pandas\n",
    "from Bio import AlignIO\n",
    "from Bio.Seq import Seq\n",
    "from Bio.Alphabet import IUPAC\n",
    "from Bio import pairwise2\n",
    "from Bio.pairwise2 import format_alignment\n",
    "import regex"
   ]
  },
  {
   "cell_type": "code",
   "execution_count": 264,
   "metadata": {},
   "outputs": [],
   "source": [
    "# Load in all of our files\n",
    "IGHV=pandas.read_csv('IMGT_database/human_IGHV.txt',sep='\\s+',header=[1])\n",
    "IGLV=pandas.read_csv('IMGT_database/human_IGLV.txt',sep='\\s+',header=[1])\n",
    "IGKV=pandas.read_csv('IMGT_database/human_IGKV.txt',sep='\\s+',header=[1])\n",
    "IGHJ=pandas.read_csv('IMGT_database/human_IGHJ.txt',sep='\\s+',header=[1])\n",
    "IGLJ=pandas.read_csv('IMGT_database/human_IGLJ.txt',sep='\\s+',header=[1])\n",
    "IGKJ=pandas.read_csv('IMGT_database/human_IGKJ.txt',sep='\\s+',header=[1])\n",
    "\n",
    "ori_IGHJ=pandas.read_csv('IMGT_database/human_IGHJ_IMGT.txt',sep='\\s+',header=[1])\n",
    "ori_IGLJ=pandas.read_csv('IMGT_database/human_IGLJ_IMGT.txt',sep='\\s+',header=[1])\n",
    "ori_IGKJ=pandas.read_csv('IMGT_database/human_IGKJ_IMGT.txt',sep='\\s+',header=[1])"
   ]
  },
  {
   "cell_type": "code",
   "execution_count": 165,
   "metadata": {},
   "outputs": [],
   "source": [
    "# Separate out Heavy Chain Gene V Segements\n",
    "HV_A=[Seq(a, IUPAC.protein) for a in IGHV.iloc[2::2, 0]]\n",
    "HV_B=[Seq(a, IUPAC.protein) for a in IGHV.iloc[2::2, 1]]\n",
    "HV_BC=[Seq(a, IUPAC.protein) for a in IGHV.iloc[2::2, 2]]\n",
    "HV_C=[Seq(a, IUPAC.protein) for a in IGHV.iloc[2::2, 3]]\n",
    "HV_Cp=[Seq(a, IUPAC.protein) for a in IGHV.iloc[2::2, 4]] # Cp = C'\n",
    "HV_CpCpp=[Seq(a, IUPAC.protein) for a in IGHV.iloc[2::2,5]] # Cpp = C''\n",
    "HV_Cpp=[Seq(a, IUPAC.protein) for a in IGHV.iloc[2::2,6]]\n",
    "HV_D=[Seq(a, IUPAC.protein) for a in IGHV.iloc[2::2,7]]\n",
    "HV_E=[Seq(a, IUPAC.protein) for a in IGHV.iloc[2::2,8]]\n",
    "HV_F=[Seq(a, IUPAC.protein) for a in IGHV.iloc[2::2,9]]\n",
    "HV_FG=[Seq(a, IUPAC.protein) for a in IGHV.iloc[2::2,10]]"
   ]
  },
  {
   "cell_type": "code",
   "execution_count": 168,
   "metadata": {},
   "outputs": [],
   "source": [
    "# Separate out Lambda Light Chain V Gene Segements\n",
    "LV_A=[Seq(a, IUPAC.protein) for a in IGLV.iloc[2::2, 0]]\n",
    "LV_B=[Seq(a, IUPAC.protein) for a in IGLV.iloc[2::2, 1]]\n",
    "LV_BC=[Seq(a, IUPAC.protein) for a in IGLV.iloc[2::2, 2]]\n",
    "LV_C=[Seq(a, IUPAC.protein) for a in IGLV.iloc[2::2, 3]]\n",
    "LV_Cp=[Seq(a, IUPAC.protein) for a in IGLV.iloc[2::2, 4]] # Cp = C'\n",
    "LV_CpCpp=[Seq(a, IUPAC.protein) for a in IGLV.iloc[2::2,5]] # Cpp = C''\n",
    "LV_Cpp=[Seq(a, IUPAC.protein) for a in IGLV.iloc[2::2,6]]\n",
    "LV_D=[Seq(a, IUPAC.protein) for a in IGLV.iloc[2::2,7]]\n",
    "LV_E=[Seq(a, IUPAC.protein) for a in IGLV.iloc[2::2,8]]\n",
    "LV_F=[Seq(a, IUPAC.protein) for a in IGLV.iloc[2::2,9]]\n",
    "LV_FG=[Seq(a, IUPAC.protein) for a in IGLV.iloc[2::2,10]]"
   ]
  },
  {
   "cell_type": "code",
   "execution_count": 169,
   "metadata": {},
   "outputs": [],
   "source": [
    "# Separate out Kappa Light Chain V Gene Segements\n",
    "KV_A=[Seq(a, IUPAC.protein) for a in IGKV.iloc[2::2, 0]]\n",
    "KV_B=[Seq(a, IUPAC.protein) for a in IGKV.iloc[2::2, 1]]\n",
    "KV_BC=[Seq(a, IUPAC.protein) for a in IGKV.iloc[2::2, 2]]\n",
    "KV_C=[Seq(a, IUPAC.protein) for a in IGKV.iloc[2::2, 3]]\n",
    "KV_Cp=[Seq(a, IUPAC.protein) for a in IGKV.iloc[2::2, 4]] # Cp = C'\n",
    "KV_CpCpp=[Seq(a, IUPAC.protein) for a in IGKV.iloc[2::2,5]] # Cpp = C''\n",
    "KV_Cpp=[Seq(a, IUPAC.protein) for a in IGKV.iloc[2::2,6]]\n",
    "KV_D=[Seq(a, IUPAC.protein) for a in IGKV.iloc[2::2,7]]\n",
    "KV_E=[Seq(a, IUPAC.protein) for a in IGKV.iloc[2::2,8]]\n",
    "KV_F=[Seq(a, IUPAC.protein) for a in IGKV.iloc[2::2,9]]\n",
    "KV_FG=[Seq(a, IUPAC.protein) for a in IGKV.iloc[2::2,10]]"
   ]
  },
  {
   "cell_type": "code",
   "execution_count": 265,
   "metadata": {},
   "outputs": [],
   "source": [
    "# Separate out Heavy Chain J Gene Segements\n",
    "HJ=[Seq(a, IUPAC.protein) for a in IGHJ.iloc[0::2, 0]]\n",
    "ori_HJ=[Seq(a, IUPAC.protein) for a in ori_IGHJ.iloc[0::2, 0]]"
   ]
  },
  {
   "cell_type": "code",
   "execution_count": 266,
   "metadata": {},
   "outputs": [],
   "source": [
    "# Separate out Lambda Light Chain J Gene Segements\n",
    "LJ=[Seq(a, IUPAC.protein) for a in IGLJ.iloc[0::2, 0]]\n",
    "ori_LJ=[Seq(a, IUPAC.protein) for a in ori_IGLJ.iloc[0::2, 0]]"
   ]
  },
  {
   "cell_type": "code",
   "execution_count": 268,
   "metadata": {},
   "outputs": [],
   "source": [
    "# Separate out Kappa Light Chain J Gene Segements\n",
    "KJ=[Seq(a, IUPAC.protein) for a in IGKJ.iloc[0::2, 0]]\n",
    "ori_KJ=[Seq(a, IUPAC.protein) for a in ori_IGKJ.iloc[0::2, 0]]"
   ]
  },
  {
   "cell_type": "code",
   "execution_count": 141,
   "metadata": {},
   "outputs": [],
   "source": [
    "input_heavy='QVQLVQSGAEVKKPGSSVKVSCKSSGGTSNNYAISWVRQAPGQGLDWMGGISPIFGSTAYAQKFQGRVTISADIFSNTAYMELNSLTSEDTAVYFCARHGNYYYYSGMDVWGQGTTVTVSSASTKGPSVFPLAPSSKSTSGGTAALGCLVKDYFPEPVTVSWNSGALTSGVHTFPAVLQSSGLYSLSSVVTVPSSSLGTQTYICNVNHSPA'\n",
    "input_light='QSVLTQPPAVSGTPGQRVTISCSGSDSNIGRRSVNWYQQFPGTAPKLLIYSNDQRPSVVPDRFSGSKSGTSASLAISGLQSEDEAEYYCAAWDDSLKGAVFGGGTQLTVGQPKAAPSVTLFPPSSEELQANKATLVCLISDFYPGAVTVAWKADSSPVKAGVETTTPSKQSNNKYAASSYLSLTPEQ'"
   ]
  },
  {
   "cell_type": "code",
   "execution_count": 374,
   "metadata": {},
   "outputs": [
    {
     "data": {
      "text/plain": [
       "'QVQLVQSGAEVKKPGSSVKVSCKSSGGTSNNYAISWVRQAPGQGLDWMGGISPIFGSTAYAQKFQGRVTISADIFSNTAYMELNSLTSEDTAVYFCARHGNYYYYSGMDVWGQGTTVTVSSASTKGPSVFPLAPSSKSTSGGTAALGCLVKDYFPEPVTVSWNSGALTSGVHTFPAVLQSSGLYSLSSVVTVPSSSLGTQTYICNVNHSPA'"
      ]
     },
     "execution_count": 374,
     "metadata": {},
     "output_type": "execute_result"
    }
   ],
   "source": [
    "pre_heavy.values[0][0]"
   ]
  },
  {
   "cell_type": "code",
   "execution_count": 392,
   "metadata": {},
   "outputs": [],
   "source": [
    "pre_heavy=pandas.read_csv('heavy_sequences.txt',sep='\\s+',header=None)\n",
    "pre_light=pandas.read_csv('light_sequences.txt',sep='\\s+',header=None)\n",
    "\n",
    "input_heavy=[Seq(a, IUPAC.protein) for a in pre_heavy.iloc[:, 0]]\n",
    "input_light=[Seq(a, IUPAC.protein) for a in pre_light.iloc[:, 0]]\n"
   ]
  },
  {
   "cell_type": "code",
   "execution_count": 142,
   "metadata": {},
   "outputs": [],
   "source": [
    "heavy_t=Seq(input_heavy, IUPAC.protein)\n",
    "light_t=Seq(input_light, IUPAC.protein)"
   ]
  },
  {
   "cell_type": "code",
   "execution_count": 365,
   "metadata": {},
   "outputs": [],
   "source": [
    "chain='heavy'"
   ]
  },
  {
   "cell_type": "markdown",
   "metadata": {},
   "source": [
    "# Work in Progress Note:\n",
    "So for some reason, including the truncated version of the genes results in a bad fit... Specifically, the J segment was essentially drowned out to noise so the aligner couldn't properly fit it. This makes sense in retrospect... More residues means we are less susceptible to noise. Does this mean we should also include the IMGT CDR loop sections in these alignments? Probably... but let's leave them out for now\n",
    "\n",
    "# Note as I'm thinking about... uh... the above note:\n",
    "Might want to do a two-step alignment. Align to get just the CDR1 and CDR2, THEN pick out the region that should ~roughly~ have the CDR3 region, THEN align that to the J segment... That's for a future implementation"
   ]
  },
  {
   "cell_type": "code",
   "execution_count": 363,
   "metadata": {},
   "outputs": [
    {
     "name": "stdout",
     "output_type": "stream",
     "text": [
      "89.0\n",
      "V gene # and J gene # (IMGT List Number)\n",
      "[10, 5]\n",
      "QVQLVQSGA.EVKKPGSSVKVSCKAS---------ISWVRQAPGQGLE-WMGGN---------YAQKFQ.GRVTIT-ADEST--S-TAYMELS-SLR-SEDTAVYY-C---G------------QGTTVTVSS------------------------------------------------------------------------------------------\n",
      "||||||||| |||||||||||||| |         ||||||||||||  ||||          |||||| |||||  ||     | ||||||  ||  |||||| | |   |            |||||||||                                                                                          \n",
      "QVQLVQSGA-EVKKPGSSVKVSCK-SSGGTSNNYAISWVRQAPGQGL-DWMGG-ISPIFGSTAYAQKFQ-GRVTI-SAD---IFSNTAYMEL-NSL-TSEDTAV-YFCARHGNYYYYSGMDVWGQGTTVTVSSASTKGPSVFPLAPSSKSTSGGTAALGCLVKDYFPEPVTVSWNSGALTSGVHTFPAVLQSSGLYSLSSVVTVPSSSLGTQTYICNVNHSPA\n",
      "  Score=80\n",
      "\n"
     ]
    }
   ],
   "source": [
    "# Here we look at heavy chain comparisons, try to find the BEST fit of some given gene usage.\n",
    "if chain=='heavy'\n",
    "    score=0\n",
    "    best=0\n",
    "    for i in range(len(HV_A)):\n",
    "        for j in range(len(HJ)):\n",
    "            aa=pairwise2.align.globalxx(HV_A[i]+HV_B[i]+HV_C[i]+HV_Cp[i]+HV_Cpp[i]+HV_D[i]+HV_E[i]+HV_F[i]+ori_HJ[j],heavy_t)\n",
    "            if aa[0][2] > score:\n",
    "                # Bring back these options to look at the second best\n",
    "                #best_old=best\n",
    "                #score_old=score\n",
    "                score=aa[0][2]\n",
    "                best=[i,j]\n",
    "    print(score)\n",
    "    print('V gene # and J gene # (IMGT List Number)')\n",
    "    print(best)\n",
    "    final=pairwise2.align.globalxx(HV_A[best[0]]+HV_B[best[0]]+HV_C[best[0]]+HV_Cp[best[0]]+HV_Cpp[best[0]]+HV_D[best[0]]+HV_E[best[0]]+HV_F[best[0]]+HJ[best[1]],heavy_t)\n",
    "    print(format_alignment(*final[0]))"
   ]
  },
  {
   "cell_type": "code",
   "execution_count": 412,
   "metadata": {},
   "outputs": [
    {
     "name": "stdout",
     "output_type": "stream",
     "text": [
      "[]\n",
      "['-YAQKFQ.G']\n"
     ]
    }
   ],
   "source": [
    "# Can do something like this to make sure the we never fail...\n",
    "find_B_tol=regex.findall(str('('+HV_Cpp[best[0]])+'){i<=0,s<=0,e<=0}',final[0][0])\n",
    "print(find_B_tol)\n",
    "error=0\n",
    "while find_B_tol==[]:\n",
    "    error=error+1\n",
    "    find_B_tol=regex.findall(str('('+HV_Cpp[best[0]])+'){i<='+str(error)+',s<='+str(error)+',e<='+str(error)+'}',final[0][0])\n",
    "    print(find_B_tol)\n",
    "    \n",
    "    "
   ]
  },
  {
   "cell_type": "code",
   "execution_count": 364,
   "metadata": {},
   "outputs": [
    {
     "name": "stdout",
     "output_type": "stream",
     "text": [
      "SGGTSNNY\n",
      "ISPIFGS\n",
      "CARHGNYYYYSGMDV\n"
     ]
    }
   ],
   "source": [
    "# So here we leverage the fact that the alignments are the exact same length.\n",
    "# Print the in betweens... CDR1 = Between B and C regions... CDR2= Between C' and C''... \n",
    "# CDR3= Between F domain and entire J gene usage.\n",
    "\n",
    "# Need to have this regex ditty in there because of some slight disagreements for\n",
    "# \n",
    "\n",
    "find_B_tol=regex.findall(str('('+HV_B[best[0]])+'){i<=1,s<=2,e<=2}',final[0][0])\n",
    "find_C_tol=regex.findall(str('('+HV_C[best[0]])+'){i<=1,s<=2,e<=2}',final[0][0])\n",
    "CDR1_start=final[0][0].find(find_B_tol[0])+len(find_B_tol[0])\n",
    "CDR1_end=final[0][0].find(find_C_tol[0])\n",
    "CDR1=final[0][1][CDR1_start:CDR1_end].replace('-','')\n",
    "print(CDR1)\n",
    "\n",
    "find_Cp_tol=regex.findall(str('('+HV_Cp[best[0]])+'){i<=1,s<=2,e<=2}',final[0][0])\n",
    "find_Cpp_tol=regex.findall(str('('+HV_Cpp[best[0]])+'){i<=1,s<=2,e<=2}',final[0][0])\n",
    "CDR2_start=final[0][0].find(find_Cp_tol[0])+len(find_Cp_tol[0])\n",
    "CDR2_end=final[0][0].find(find_Cpp_tol[0])\n",
    "CDR2=final[0][1][CDR2_start:CDR2_end].replace('-','')\n",
    "print(CDR2)\n",
    "\n",
    "find_F_tol=regex.findall(str('('+HV_F[best[0]])+'){i<=1,s<=2,e<=2}',final[0][0])\n",
    "find_J_tol=regex.findall(str('('+HJ[best[1]])+'){i<=1,s<=2,e<=2}',final[0][0])\n",
    "CDR3_start=final[0][0].find(find_F_tol[0])+len(find_F_tol[0])\n",
    "CDR3_end=final[0][0].find(find_J_tol[0])\n",
    "CDR3=final[0][1][CDR3_start:CDR3_end].replace('-','')\n",
    "print(CDR3)"
   ]
  },
  {
   "cell_type": "code",
   "execution_count": 346,
   "metadata": {},
   "outputs": [
    {
     "name": "stdout",
     "output_type": "stream",
     "text": [
      "86.0\n",
      "lambda\n",
      "V gene # and J gene # (IMGT List Number)\n",
      "[3, 6]\n",
      "QSVLTQPPS.A-SGTPGQRVTISCSGS--------VNWYQQL-PGTAPKLLIY---QRPSGV-P.DRFSGSK..SGTSASLAISGLQSEDEAD-YYC--------G---GG-TQLTV----------L-------------------------------------------------------------------\n",
      "||||||||  | |||||||||||||||        ||||||  ||||||||||   |||| | | |||||||  ||||||||||||||||||  |||        |   || |||||          |                                                                   \n",
      "QSVLTQPP--AVSGTPGQRVTISCSGSDSNIGRRSVNWYQQ-FPGTAPKLLIYSNDQRPS-VVP-DRFSGSK--SGTSASLAISGLQSEDEA-EYYCAAWDDSLKGAVFGGGTQLTVGQPKAAPSVTLFPPSSEELQANKATLVCLISDFYPGAVTVAWKADSSPVKAGVETTTPSKQSNNKYAASSYLSLTPEQ\n",
      "  Score=83\n",
      "\n"
     ]
    }
   ],
   "source": [
    "# Alright now do the same stuff for the light chain\n",
    "# lambda time\n",
    "if chain=='light'\n",
    "    score=0\n",
    "    best=0\n",
    "    for i in range(len(LV_A)):\n",
    "        for j in range(len(LJ)):\n",
    "            aa=pairwise2.align.globalxx(LV_A[i]+LV_B[i]+LV_C[i]+LV_Cp[i]+LV_Cpp[i]+LV_D[i]+LV_E[i]+LV_F[i]+ori_LJ[j],light_t)\n",
    "            if aa[0][2] > score:\n",
    "                # Bring back these options to look at the second best\n",
    "                #best_old=best\n",
    "                #score_old=score\n",
    "                score=aa[0][2]\n",
    "                best=[i,j]\n",
    "                lc='lambda'\n",
    "    lambdascore=score\n",
    "    # Light is a little bit trickier, because you have to check the kappa \n",
    "    for i in range(len(KV_A)):\n",
    "        for j in range(len(KJ)):\n",
    "            aa=pairwise2.align.globalxx(KV_A[i]+KV_B[i]+KV_C[i]+KV_Cp[i]+KV_Cpp[i]+KV_D[i]+KV_E[i]+KV_F[i]+ori_KJ[j],light_t)\n",
    "            if aa[0][2] >= score:\n",
    "                # Bring back these options to look at the second best\n",
    "                #best_old=best\n",
    "                #score_old=score\n",
    "                score=aa[0][2]\n",
    "                best=[i,j]\n",
    "                lc='kappa'\n",
    "                if score==lambdascore:\n",
    "                    print('We have a tie between lambda and kappa genes! This should not really happen')\n",
    "\n",
    "    print(score)\n",
    "    print(lc)\n",
    "    print('V gene # and J gene # (IMGT List Number)')\n",
    "    print(best)\n",
    "    if chain=='lambda':\n",
    "        final=pairwise2.align.globalxx(LV_A[best[0]]+LV_B[best[0]]+LV_C[best[0]]+LV_Cp[best[0]]+LV_Cpp[best[0]]+LV_D[best[0]]+LV_E[best[0]]+LV_F[best[0]]+LJ[best[1]],light_t)\n",
    "    if chain=='kappa':\n",
    "        final=pairwise2.align.globalxx(KV_A[best[0]]+KV_B[best[0]]+KV_C[best[0]]+KV_Cp[best[0]]+KV_Cpp[best[0]]+KV_D[best[0]]+KV_E[best[0]]+KV_F[best[0]]+KJ[best[1]],light_t)\n",
    "\n",
    "    print(format_alignment(*final[0]))"
   ]
  },
  {
   "cell_type": "code",
   "execution_count": 360,
   "metadata": {},
   "outputs": [
    {
     "name": "stdout",
     "output_type": "stream",
     "text": [
      "DSNIGRR\n",
      "SND\n",
      "CAAWDDSLKGAVF\n"
     ]
    }
   ],
   "source": [
    "# So here we leverage the fact that the alignments are the exact same length.\n",
    "# Print the in betweens... CDR1 = Between B and C regions... CDR2= Between C' and C''... \n",
    "# CDR3= Between F domain and entire J gene usage.\n",
    "\n",
    "# Need to have this regex ditty in there because of some slight disagreements for\n",
    "# \n",
    "if lc=='lambda':\n",
    "    find_B_tol=regex.findall(str('('+LV_B[best[0]])+'){i<=1,s<=2,e<=2}',final[0][0])\n",
    "    find_C_tol=regex.findall(str('('+LV_C[best[0]])+'){i<=1,s<=2,e<=2}',final[0][0])\n",
    "    CDR1_start=final[0][0].find(find_B_tol[0])+len(find_B_tol[0])\n",
    "    CDR1_end=final[0][0].find(find_C_tol[0])\n",
    "    CDR1=final[0][1][CDR1_start:CDR1_end].replace('-','')\n",
    "    print(CDR1)\n",
    "\n",
    "    find_Cp_tol=regex.findall(str('('+LV_Cp[best[0]])+'){i<=1,s<=2,e<=2}',final[0][0])\n",
    "    find_Cpp_tol=regex.findall(str('('+LV_Cpp[best[0]])+'){i<=1,s<=2,e<=2}',final[0][0])\n",
    "    CDR2_start=final[0][0].find(find_Cp_tol[0])+len(find_Cp_tol[0])\n",
    "    CDR2_end=final[0][0].find(find_Cpp_tol[0])\n",
    "    CDR2=final[0][1][CDR2_start:CDR2_end].replace('-','')\n",
    "    print(CDR2)\n",
    "\n",
    "    find_F_tol=regex.findall(str('('+LV_F[best[0]])+'){i<=1,s<=2,e<=2}',final[0][0])\n",
    "    find_J_tol=regex.findall(str('('+LJ[best[1]])+'){i<=1,s<=2,e<=2}',final[0][0])\n",
    "    CDR3_start=final[0][0].find(find_F_tol[0])+len(find_F_tol[0])\n",
    "    CDR3_end=final[0][0].find(find_J_tol[0])\n",
    "    CDR3=final[0][1][CDR3_start:CDR3_end].replace('-','')\n",
    "    print(CDR3)"
   ]
  },
  {
   "cell_type": "code",
   "execution_count": 278,
   "metadata": {},
   "outputs": [],
   "source": [
    "# So here we leverage the fact that the alignments are the exact same length.\n",
    "# Print the in betweens... CDR1 = Between B and C regions... CDR2= Between C' and C''... \n",
    "# CDR3= Between F domain and entire J gene usage.\n",
    "\n",
    "# Need to have this regex ditty in there because of some slight disagreements for\n",
    "# \n",
    "if lc=='kappa':\n",
    "    find_B_tol=regex.findall(str('('+KV_B[best[0]])+'){i<=1,s<=2,e<=2}',final[0][0])\n",
    "    find_C_tol=regex.findall(str('('+KV_C[best[0]])+'){i<=1,s<=2,e<=2}',final[0][0])\n",
    "    CDR1_start=final[0][0].find(find_B_tol[0])+len(find_B_tol[0])\n",
    "    CDR1_end=final[0][0].find(find_C_tol[0])\n",
    "    CDR1=final[0][1][CDR1_start:CDR1_end].replace('-','')\n",
    "    print(CDR1)\n",
    "\n",
    "    find_Cp_tol=regex.findall(str('('+KV_Cp[best[0]])+'){i<=1,s<=2,e<=2}',final[0][0])\n",
    "    find_Cpp_tol=regex.findall(str('('+KV_Cpp[best[0]])+'){i<=1,s<=2,e<=2}',final[0][0])\n",
    "    CDR2_start=final[0][0].find(find_Cp_tol[0])+len(find_Cp_tol[0])\n",
    "    CDR2_end=final[0][0].find(find_Cpp_tol[0])\n",
    "    CDR2=final[0][1][CDR2_start:CDR2_end].replace('-','')\n",
    "    print(CDR2)\n",
    "\n",
    "    find_F_tol=regex.findall(str('('+KV_F[best[0]])+'){i<=1,s<=2,e<=2}',final[0][0])\n",
    "    find_J_tol=regex.findall(str('('+KJ[best[1]])+'){i<=1,s<=2,e<=2}',final[0][0])\n",
    "    CDR3_start=final[0][0].find(find_F_tol[0])+len(find_F_tol[0])\n",
    "    CDR3_end=final[0][0].find(find_J_tol[0])\n",
    "    CDR3=final[0][1][CDR3_start:CDR3_end].replace('-','')\n",
    "    print(CDR3)"
   ]
  }
 ],
 "metadata": {
  "kernelspec": {
   "display_name": "Python 3",
   "language": "python",
   "name": "python3"
  },
  "language_info": {
   "codemirror_mode": {
    "name": "ipython",
    "version": 3
   },
   "file_extension": ".py",
   "mimetype": "text/x-python",
   "name": "python",
   "nbconvert_exporter": "python",
   "pygments_lexer": "ipython3",
   "version": "3.6.8"
  }
 },
 "nbformat": 4,
 "nbformat_minor": 2
}
